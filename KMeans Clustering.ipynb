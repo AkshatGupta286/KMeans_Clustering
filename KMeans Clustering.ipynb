{
 "cells": [
  {
   "cell_type": "markdown",
   "metadata": {},
   "source": [
    "# Writing KMeans Clustering algorithm for the provided dataset\n",
    "\n",
    "### The main purpose of the project is to show the difference in performance of algorithm when different centroid initialization strategies are used. For this, we perform the algorithm multiple times with different number of clusters and using two strategies for centroid initialization. \n",
    "### Note: No built in libraries like scikit-learn are used for writing the algorithm."
   ]
  },
  {
   "cell_type": "code",
   "execution_count": 1,
   "metadata": {},
   "outputs": [],
   "source": [
    "#importing all libraries and loading the data set\n",
    "\n",
    "import numpy as np # used to manipulate mattrices and calculate mean and standard deviation\n",
    "import matplotlib.pyplot as plt # used to plot the resultant graphs\n",
    "import math # used to calculate log\n",
    "import scipy.io # used to load dataset\n",
    "import random # used to get random number to initialize centroid\n",
    "\n",
    "data = scipy.io.loadmat('Datasets/KMeans_Samples.mat') # loading the data set\n",
    "samples = data['AllSamples'] # extracting samples from the data set"
   ]
  },
  {
   "cell_type": "markdown",
   "metadata": {},
   "source": [
    "### Euclidean Distance is used as a parameter for training the model"
   ]
  },
  {
   "cell_type": "code",
   "execution_count": 2,
   "metadata": {},
   "outputs": [],
   "source": [
    "# method to find euclidean distance between two points\n",
    "\n",
    "def euclideanDistance(x1, y1, x2, y2): \n",
    "    return math.sqrt(((x2 - x1) ** 2) + ((y2 - y1) ** 2))"
   ]
  },
  {
   "cell_type": "markdown",
   "metadata": {},
   "source": [
    "## Strategy 1\n",
    "\n",
    "### In this strategy all the centroids are initialized by randomly selecting any point from the data samples."
   ]
  },
  {
   "cell_type": "code",
   "execution_count": 3,
   "metadata": {},
   "outputs": [],
   "source": [
    "# method to initialize centroids according to Strategy 1\n",
    "\n",
    "# randomly picking centroids from given samples using 'random' library\n",
    "\n",
    "def initializeCentroids_Strategy1(samples, k):\n",
    "    centroids = np.zeros((0,2))\n",
    "    for i in range(k):\n",
    "        index = int(random.random() * (samples.shape[0]-1))\n",
    "        if(samples[index].reshape(1,2) not in centroids):\n",
    "            centroids = np.append(centroids, samples[index].reshape(1,2), axis = 0)\n",
    "        else:\n",
    "            i -= 1\n",
    "    return centroids"
   ]
  },
  {
   "cell_type": "markdown",
   "metadata": {},
   "source": [
    "## Strategy 2\n",
    "\n",
    "### In this strategy, first centroid is selected randomly from the data samples. \n",
    "### All the other k-1 centroids (where 'k' is the number of centroids) are chosen such that the average distance of this centroid to all the previous ones is maximal."
   ]
  },
  {
   "cell_type": "code",
   "execution_count": 4,
   "metadata": {},
   "outputs": [],
   "source": [
    "# method to initialize centroids according to Strategy 2\n",
    "\n",
    "# choosing first centroid randomly from the given samples \n",
    "# Then choosing a sample such that the average distance of this one to all the previous centroids is maximal\n",
    "\n",
    "def initializeCentroids_Strategy2(samples, k):\n",
    "    centroids = np.zeros((0,2))\n",
    "    \n",
    "    # choosing first centroid randomly \n",
    "    index = int(random.random() * (samples.shape[0]-1))\n",
    "    centroids = np.append(centroids, samples[index].reshape(1,2), axis = 0)\n",
    "    \n",
    "    # finding other centroids with max average distance from others\n",
    "    for cluster in range(k-1):\n",
    "        minDistanceList = []\n",
    "\n",
    "        # finding minimum distance of all the points in the samples from all previous centroids\n",
    "        # and storing them in 'minDistanceList' (ps. index is same as samples)\n",
    "        for i in range(samples.shape[0]):\n",
    "            minDist = 1000\n",
    "        \n",
    "            for j in range(centroids.shape[0]):\n",
    "                d = euclideanDistance(samples[i][0], samples[i][1], centroids[j][0], centroids[j][1])\n",
    "                minDist = min(d, minDist)\n",
    "            minDistanceList.append(minDist)\n",
    "\n",
    "        # the point with largest minimum distance is the point which is farthest from all the previous centroids\n",
    "        # Therefore, that point is our next centroid.\n",
    "        \n",
    "        # as index of 'minDistanceList' and 'samples' is same we find the index of largest distance in 'minDistanceList'\n",
    "        # using 'np.argmax' and use that index to find point which will be our next centroid\n",
    "        minDistanceList = np.array(minDistanceList)\n",
    "        nextCentroid = samples[np.argmax(minDistanceList)].reshape(1,2) \n",
    "        centroids = np.append(centroids, nextCentroid, axis = 0)\n",
    "    return centroids"
   ]
  },
  {
   "cell_type": "code",
   "execution_count": 5,
   "metadata": {},
   "outputs": [],
   "source": [
    "# method to find the centroid closest to the given sample or point\n",
    "\n",
    "# for this the method 'euclideanDistance' is used. \n",
    "# distance of sample from all the centroids is calculated and the centroid which is the closest is returned\n",
    "\n",
    "def closestCentroid(sample, centroids):\n",
    "    index = 0\n",
    "    minDist = 1000\n",
    "    for i in range(centroids.shape[0]):\n",
    "        if(euclideanDistance(sample[0], sample[1], centroids[i][0], centroids[i][1]) < minDist):\n",
    "            minDist = euclideanDistance(sample[0], sample[1], centroids[i][0], centroids[i][1])\n",
    "            index = i\n",
    "    return index"
   ]
  },
  {
   "cell_type": "code",
   "execution_count": 6,
   "metadata": {},
   "outputs": [],
   "source": [
    "# method to assign samples to their respective nearest centroids\n",
    "# labels used here are nothing else but the centroid number (or the index of centroid in centroids array)\n",
    "\n",
    "# using the method 'closestCentroid' closest centroid of the sample is found \n",
    "# and the index of centroid in centroids array is used as label to identify the cluster of a sample \n",
    "\n",
    "def assignSamplesToCentroids(samples, centroids):\n",
    "    newSamples = np.zeros((0,3))\n",
    "    for sample in samples:\n",
    "        label = closestCentroid(sample, centroids)\n",
    "        newSamples = np.append(newSamples, [[sample[0], sample[1], label]], axis = 0)\n",
    "    return newSamples"
   ]
  },
  {
   "cell_type": "code",
   "execution_count": 7,
   "metadata": {},
   "outputs": [],
   "source": [
    "# method to find new centroids for each and every cluster by taking the mean of all the samples \n",
    "# which belong to that particular cluster\n",
    "\n",
    "# after all the samples are assigned to a cluster, new centroids are calculated\n",
    "# by finding the average or mean of all the points present in the cluster\n",
    "\n",
    "def getNewCentroids(labelledSamples, centroids):\n",
    "    newCentroids = np.zeros((0,2))\n",
    "    x, y, labels = np.hsplit(labelledSamples, 3)\n",
    "    for i in range(centroids.shape[0]):\n",
    "        iLabelIndexes = np.where(labels == i) # indexes of samples which belong to cluster i is found \n",
    "        iLabelX = x[iLabelIndexes] # using the indexes points which label i are found\n",
    "        iLabelY = y[iLabelIndexes]\n",
    "        \n",
    "        # average of points is calculated and result is added as new centroid\n",
    "        newCentroids = np.append(newCentroids, [[np.average(iLabelX), np.average(iLabelY)]], axis = 0) \n",
    "    return newCentroids"
   ]
  },
  {
   "cell_type": "markdown",
   "metadata": {},
   "source": [
    "### KMeans Algorithm"
   ]
  },
  {
   "cell_type": "code",
   "execution_count": 8,
   "metadata": {},
   "outputs": [],
   "source": [
    "# method to implement KMeans algorithm using the methods defined above\n",
    "\n",
    "# it uses methods 'assignSamplesToCentroids' and 'getNewCentroids' to run the kmeans algorithm\n",
    "# first samples are assigned to clusters \n",
    "# then new centroids are calculated for every cluster\n",
    "# then again samples are assigned according to new centroids\n",
    "# This is repeated unless centroids stop changing.\n",
    "\n",
    "def KMeansAlgorithm(samples, centroids):\n",
    "    newCentroids = np.zeros((0, centroids.shape[0]))\n",
    "    maxIterations = 20 # the maximum number of times the algorithm can run (usually it converges within 10 iterations)\n",
    "\n",
    "    while(maxIterations != 0):\n",
    "        maxIterations -= 1\n",
    "        newSamples = assignSamplesToCentroids(samples, centroids)\n",
    "        newCentroids = getNewCentroids(newSamples, centroids)\n",
    "        if(np.array_equal(newCentroids, centroids) or maxIterations == 0):\n",
    "            return newCentroids\n",
    "        else:\n",
    "            centroids = newCentroids"
   ]
  },
  {
   "cell_type": "markdown",
   "metadata": {},
   "source": [
    "### Objective Function used to analyze the performance of algorithm with different strategies."
   ]
  },
  {
   "cell_type": "code",
   "execution_count": 9,
   "metadata": {},
   "outputs": [],
   "source": [
    "# method to calculate the objective function value\n",
    "\n",
    "# samples or points of a particular cluster are found\n",
    "# then sum of distance of all those points from the cluster's centroid is calculated\n",
    "# this is done for all the clusters and sum of all the distances is returned\n",
    "\n",
    "def objectiveFunction(labelledSamples, centroids):\n",
    "    squaredError = 0\n",
    "    for i in range(centroids.shape[0]):\n",
    "        centroid = centroids[i].reshape(1,2)\n",
    "        sampleIndexes = np.where(labelledSamples[:, 2] == i) # indexes of samples which belong to cluster i is found\n",
    "        samples = labelledSamples[sampleIndexes] # using the indexes points which label i are found\n",
    "\n",
    "        # sum of distance between samples and their respective centroid is calculated\n",
    "        for sample in samples:\n",
    "            sample = sample[:2].reshape(1,2)\n",
    "            squaredError += np.sum((sample - centroid) ** 2)\n",
    "    return squaredError"
   ]
  },
  {
   "cell_type": "code",
   "execution_count": 10,
   "metadata": {},
   "outputs": [
    {
     "data": {
      "image/png": "[encoded data removed]",
      "text/plain": [
       "<Figure size 432x288 with 1 Axes>"
      ]
     },
     "metadata": {
      "needs_background": "light"
     },
     "output_type": "display_data"
    },
    {
     "data": {
      "image/png": "[encoded data removed]",
      "text/plain": [
       "<Figure size 432x288 with 1 Axes>"
      ]
     },
     "metadata": {
      "needs_background": "light"
     },
     "output_type": "display_data"
    }
   ],
   "source": [
    "# main\n",
    "# this cell performs the whole project and prints the required plots\n",
    "\n",
    "# first initial centroids are found using 'initializeCentroids_Strategy1' and 'initializeCentroids_Strategy2' (2 cases each)\n",
    "# then using method 'KMeansAlgorithm' final centroids are found\n",
    "# using the new centroids labels are given to the samples\n",
    "# using new centroids and new samples, objective function value is found\n",
    "# this is repeated done for k = 2-10\n",
    "\n",
    "clusters = np.arange(2, 11)\n",
    "squaredErrorArray = np.zeros(0)\n",
    "\n",
    "for k in clusters:\n",
    "    centroids = initializeCentroids_Strategy1(samples, k)\n",
    "    newCentroids = KMeansAlgorithm(samples, centroids)\n",
    "    newSamples = assignSamplesToCentroids(samples, newCentroids)\n",
    "    squaredError = objectiveFunction(newSamples, newCentroids)\n",
    "    squaredErrorArray = np.append(squaredErrorArray, squaredError)\n",
    "\n",
    "plt.plot(clusters, squaredErrorArray)\n",
    "plt.title(\"Objective Function vs Number of Clusters (Strategy 1)\")\n",
    "plt.xlabel(\"Number of Clusters\")\n",
    "plt.ylabel(\"Objective Function Value\")\n",
    "plt.show()\n",
    "    \n",
    "clusters = np.arange(2, 11)\n",
    "squaredErrorArray = np.zeros(0)\n",
    "\n",
    "for k in clusters:\n",
    "    centroids = initializeCentroids_Strategy2(samples, k)\n",
    "    newCentroids = KMeansAlgorithm(samples, centroids)\n",
    "    newSamples = assignSamplesToCentroids(samples, newCentroids)\n",
    "    squaredError = objectiveFunction(newSamples, newCentroids)\n",
    "    squaredErrorArray = np.append(squaredErrorArray, squaredError)\n",
    "\n",
    "plt.plot(clusters, squaredErrorArray)\n",
    "plt.title(\"Objective Function vs Number of Clusters (Strategy 2)\")\n",
    "plt.xlabel(\"Number of Clusters\")\n",
    "plt.ylabel(\"Objective Function Value\")\n",
    "plt.show()"
   ]
  },
  {
   "cell_type": "code",
   "execution_count": null,
   "metadata": {},
   "outputs": [],
   "source": []
  }
 ],
 "metadata": {
  "kernelspec": {
   "display_name": "Python 3",
   "language": "python",
   "name": "python3"
  },
  "language_info": {
   "codemirror_mode": {
    "name": "ipython",
    "version": 3
   },
   "file_extension": ".py",
   "mimetype": "text/x-python",
   "name": "python",
   "nbconvert_exporter": "python",
   "pygments_lexer": "ipython3",
   "version": "3.8.5"
  }
 },
 "nbformat": 4,
 "nbformat_minor": 4
}
